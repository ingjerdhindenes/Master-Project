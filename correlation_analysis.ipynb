{
 "cells": [
  {
   "cell_type": "markdown",
   "id": "29d66f24",
   "metadata": {},
   "source": [
    "# **Correlation analysis**\n",
    "*This script performs correlation analysis between the average of each fitted parameter (within a single structure), for each subject and the total score of the PHQ questionnaire (questionnaire on symptoms of depression)*"
   ]
  },
  {
   "cell_type": "code",
   "execution_count": null,
   "id": "45af1d04",
   "metadata": {},
   "outputs": [],
   "source": [
    "import pandas as pd\n",
    "import numpy as np\n",
    "from scipy.stats import spearmanr\n",
    "import csv"
   ]
  },
  {
   "cell_type": "markdown",
   "id": "bc0227fe",
   "metadata": {},
   "source": [
    "### **Loading necassary data**\n",
    "*The questionnaire scores are saved in an excel file. This file is loaded and the total score of each participant is calculated to be used in correlation analysis*\n",
    "\n",
    "*The merged file containing fitted parameters from every participant and every structure is loaded*\n",
    "\n",
    "*Column names of the fitted parameter file is also extracted for later processing*"
   ]
  },
  {
   "cell_type": "code",
   "execution_count": null,
   "id": "9faa8dcf",
   "metadata": {},
   "outputs": [],
   "source": [
    "df_PHQ = pd.read_excel('/hus/home/hining/data/Patient data template.xlsx', sheet_name='PHQ-9', skiprows=[0,1], \n",
    "                       usecols=[2, 3, 4, 5, 6, 7, 8, 9, 10, 11, 12, 13, 14, 15, 16, 17, 18] )\n",
    "PHQ_scores = df_PHQ.sum(axis=1).to_numpy()\n",
    "\n",
    "df = pd.read_json('Fitted_parameters.json', orient='index')\n",
    "parameter_names = list(df.loc['IFMM_001', 'Thalamus'][0].keys())"
   ]
  },
  {
   "cell_type": "markdown",
   "id": "371cf663",
   "metadata": {},
   "source": [
    "### **Analysis**\n",
    "*The correlation analysis is only performed between the scores and the average parameter value of four selected parameters; the small sphere diameter, the large sphere diameter, the stick dispersion parameter and the volume fraction of the stick compartment* \n",
    "\n",
    "*The cell below loops through every subcortical structure and performs the correlation analysis on the PHQ scores and the average parameter value for these parameters. Based on earlier evaluation of the distribution of fitted parameters all parameters close to max/min is excluded before calculating the average. For the diameters this means all values close to max/min of range, and for the stick dispersion and volume fraction all values very close to either 0 or 1*\n",
    "\n",
    "*The correlation results (both correlation and p-value) is stored to a list of lists along with the name of the subcortical structure and the parameter. When all correlation analysis are done the list of lists is saved as a csv file.*"
   ]
  },
  {
   "cell_type": "code",
   "execution_count": null,
   "id": "f3a75cc6",
   "metadata": {},
   "outputs": [],
   "source": [
    "correlation_results = [['Subcortical structure', 'Parameter', 'Spearman_r', 'P-value']] \n",
    "indices = [0, 1, 5, 6] # idices of desired parameters\n",
    "\n",
    "for column in df.columns:\n",
    "\n",
    "    for i, param in enumerate(parameter_names):\n",
    "        if i not in indices:\n",
    "            continue\n",
    "        mean_vals = []\n",
    "\n",
    "        if i == 0:\n",
    "            for row in df.index:\n",
    "                values = df.loc[row, column][0][param]\n",
    "                values = [x for x in values if round(x,7) not in [1e-6, 1e-5] ] \n",
    "                mean = np.mean(values)\n",
    "                mean_vals.append(mean)\n",
    "\n",
    "        elif i == 1:\n",
    "            for row in df.index:\n",
    "                values = df.loc[row, column][0][param]\n",
    "                values = [x for x in values if round(x,7) not in [1e-5, 3e-5]] \n",
    "                mean = np.mean(values)\n",
    "                mean_vals.append(mean)\n",
    "\n",
    "        elif i == 5:\n",
    "            for row in df.index:\n",
    "                values = df.loc[row, column][0][param]\n",
    "                values = [x for x in values if 0.025 <= x <= 0.975] \n",
    "                mean = np.mean(values)\n",
    "                mean_vals.append(mean)   \n",
    "\n",
    "\n",
    "        elif i == 6:\n",
    "            for row in df.index:\n",
    "                stick_fraction_in_bundle = df.loc[row, column][0][param]\n",
    "                partial_volume_bundle = df.loc[row, column][0]['partial_volume_3']   \n",
    "                partial_volume_stick =  [b*s for b, s in zip(partial_volume_bundle, stick_fraction_in_bundle)]\n",
    "                values = [x for x in partial_volume_stick if 0.025 <= x <= 0.975]\n",
    "                mean = np.mean(values)\n",
    "                mean_vals.append(mean)\n",
    "\n",
    "        # eliminate potetial NAN values\n",
    "        PHQ_scores = np.array(PHQ_scores, dtype=np.float64)\n",
    "        mean_vals= np.array(mean_vals, dtype=np.float64)\n",
    "        non_nan_mask = ~np.isnan(PHQ_scores) & ~np.isnan(mean_vals)\n",
    "        PHQ_non_nan = PHQ_scores[non_nan_mask] \n",
    "        mean_val_non_nan = mean_vals[non_nan_mask]\n",
    "     \n",
    "        # Correlation analysis     \n",
    "        correlation, p_value = spearmanr(PHQ_non_nan, mean_val_non_nan)\n",
    "        correlation_results.append([column, param, correlation, p_value] )\n",
    "\n",
    "with open('Correlation_results.csv', mode='w', newline='') as file:\n",
    "    writer = csv.writer(file)\n",
    "    writer.writerows(correlation_results)"
   ]
  }
 ],
 "metadata": {
  "kernelspec": {
   "display_name": "Python 3",
   "language": "python",
   "name": "python3"
  },
  "language_info": {
   "codemirror_mode": {
    "name": "ipython",
    "version": 3
   },
   "file_extension": ".py",
   "mimetype": "text/x-python",
   "name": "python",
   "nbconvert_exporter": "python",
   "pygments_lexer": "ipython3",
   "version": "3.11.11"
  }
 },
 "nbformat": 4,
 "nbformat_minor": 5
}
