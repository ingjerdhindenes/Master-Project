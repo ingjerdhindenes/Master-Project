{
 "cells": [
  {
   "cell_type": "markdown",
   "id": "cee915bb",
   "metadata": {},
   "source": [
    "# **Combine dataframes**\n",
    "*This is a script that is used to combine dataframes containing data from one participant into one single dataframe containing data from all participants. The file loads every file seperately, concatinates them together and saves the resulting dataframe as a json file. (Used for fitted parameters, MSE and R2)*"
   ]
  },
  {
   "cell_type": "code",
   "execution_count": null,
   "id": "dff7e0be",
   "metadata": {},
   "outputs": [],
   "source": [
    "import pandas as pd"
   ]
  },
  {
   "cell_type": "code",
   "execution_count": null,
   "id": "4feab7a5",
   "metadata": {},
   "outputs": [],
   "source": [
    "IDs = ['file1', 'file2', osv...] # List of all files (IDS)\n",
    "\n",
    "dfs =[] \n",
    "\n",
    "for i in range(len(IDs)):\n",
    "    #file_path = 'MSE_dataframes/MSE_scores_' + IDs[i] + '.json'\n",
    "    file_path = 'R2_dataframes/R2_scores_' + IDs[i] + '.json'\n",
    "    #file_path = 'Fitted_parameters_dataframes/Fitted_parameters_' + IDs[i] + '.json'\n",
    "    df = pd.read_json(file_path, orient='index')\n",
    "    dfs.append(df)\n",
    "\n",
    "combined_df = pd.concat(dfs)\n",
    "#combined_df.to_json('MSE_values.json', orient='index')\n",
    "combined_df.to_json('R2_values.json', orient='index')\n",
    "#combined_df.to_json('Fitted_parameters.json', orient='index')"
   ]
  }
 ],
 "metadata": {
  "kernelspec": {
   "display_name": "Python 3",
   "language": "python",
   "name": "python3"
  },
  "language_info": {
   "codemirror_mode": {
    "name": "ipython",
    "version": 3
   },
   "file_extension": ".py",
   "mimetype": "text/x-python",
   "name": "python",
   "nbconvert_exporter": "python",
   "pygments_lexer": "ipython3",
   "version": "3.11.11"
  }
 },
 "nbformat": 4,
 "nbformat_minor": 5
}
